{
 "cells": [
  {
   "cell_type": "code",
   "execution_count": 1,
   "metadata": {},
   "outputs": [],
   "source": [
    "import requests\n",
    "import json\n",
    "from pprint import pprint\n",
    "import os\n",
    "import requests\n",
    "import spotipy\n",
    "from spotipy.oauth2 import SpotifyClientCredentials\n",
    "import librosa\n",
    "import librosa.effects\n",
    "import soundfile as sf\n",
    "import pyrubberband\n",
    "\n"
   ]
  },
  {
   "cell_type": "code",
   "execution_count": 2,
   "metadata": {},
   "outputs": [
    {
     "data": {
      "text/plain": [
       "'How to reqest Access Token (Expires every hour)\\n\\nIn Terminal: \\n\\ncurl -X POST \"https://accounts.spotify.com/api/token\" \\\\ \\n\\n -H \"Content-Type: application/x-www-form-urlencoded\" \\\\ \\n\\n-d \"grant_type=client_credentials&client_id=938ca3beb904426fb7623368c3024a1d&client_secret=57e5d52ae0134fb8b03b6fd8ec1b056d\"\\n'"
      ]
     },
     "execution_count": 2,
     "metadata": {},
     "output_type": "execute_result"
    }
   ],
   "source": [
    "'''How to reqest Access Token (Expires every hour)\n",
    "\n",
    "In Terminal: \n",
    "\n",
    "curl -X POST \"https://accounts.spotify.com/api/token\" \\ \n",
    "\n",
    " -H \"Content-Type: application/x-www-form-urlencoded\" \\ \n",
    "\n",
    "-d \"grant_type=client_credentials&client_id=938ca3beb904426fb7623368c3024a1d&client_secret=57e5d52ae0134fb8b03b6fd8ec1b056d\"\n",
    "'''"
   ]
  },
  {
   "cell_type": "code",
   "execution_count": 3,
   "metadata": {},
   "outputs": [],
   "source": [
    "# {\"access_token\":\"BQCb6mPAxrGI0hxw43upQWdI-spnc_AMrpRSIJqfmc41MFVuIYaHSCt20cWZG88ZaYeAArnct8cM90DeQ6d_5J2ZcB9-RbVrcOQXztjufmKM-Try-kZB\",\"token_type\":\"Bearer\",\n",
    "# \"expires_in\":3600} "
   ]
  },
  {
   "cell_type": "code",
   "execution_count": 4,
   "metadata": {},
   "outputs": [],
   "source": [
    "\n",
    "# replace with your own API credentials\n",
    "client_id = '938ca3beb904426fb7623368c3024a1d'\n",
    "client_secret = '57e5d52ae0134fb8b03b6fd8ec1b056d'\n",
    "token_url = 'https://accounts.spotify.com/api/token'\n",
    "\n",
    "\n"
   ]
  },
  {
   "cell_type": "code",
   "execution_count": 5,
   "metadata": {},
   "outputs": [],
   "source": [
    "\n",
    "auth_response = requests.post(token_url, {\n",
    "    'grant_type': 'client_credentials',\n",
    "    'client_id': client_id,\n",
    "    'client_secret': client_secret,\n",
    "})\n",
    "\n",
    "auth_response_data = auth_response.json()\n",
    "access_token = auth_response_data['access_token']\n"
   ]
  },
  {
   "cell_type": "code",
   "execution_count": 6,
   "metadata": {},
   "outputs": [
    {
     "name": "stdout",
     "output_type": "stream",
     "text": [
      "{'external_urls': {'spotify': 'https://open.spotify.com/artist/4Z8W4fKeB5YxbusRsdQVPb'},\n",
      " 'followers': {'href': None, 'total': 8044717},\n",
      " 'genres': ['alternative rock',\n",
      "            'art rock',\n",
      "            'melancholia',\n",
      "            'oxford indie',\n",
      "            'permanent wave',\n",
      "            'rock'],\n",
      " 'href': 'https://api.spotify.com/v1/artists/4Z8W4fKeB5YxbusRsdQVPb',\n",
      " 'id': '4Z8W4fKeB5YxbusRsdQVPb',\n",
      " 'images': [{'height': 640,\n",
      "             'url': 'https://i.scdn.co/image/ab6761610000e5eba03696716c9ee605006047fd',\n",
      "             'width': 640},\n",
      "            {'height': 320,\n",
      "             'url': 'https://i.scdn.co/image/ab67616100005174a03696716c9ee605006047fd',\n",
      "             'width': 320},\n",
      "            {'height': 160,\n",
      "             'url': 'https://i.scdn.co/image/ab6761610000f178a03696716c9ee605006047fd',\n",
      "             'width': 160}],\n",
      " 'name': 'Radiohead',\n",
      " 'popularity': 81,\n",
      " 'type': 'artist',\n",
      " 'uri': 'spotify:artist:4Z8W4fKeB5YxbusRsdQVPb'}\n"
     ]
    }
   ],
   "source": [
    "#Testing my access token \n",
    "artist_id = '4Z8W4fKeB5YxbusRsdQVPb'\n",
    "\n",
    "headers = {\n",
    "    'Authorization': f'Bearer {access_token}'\n",
    "}\n",
    "\n",
    "response = requests.get(f'https://api.spotify.com/v1/artists/{artist_id}', headers=headers)\n",
    "\n",
    "if response.status_code == 200:\n",
    "    artist_data = response.json()\n",
    "    pprint(artist_data)\n",
    "else:\n",
    "    print(f'Request failed with status code {response.status_code}')\n"
   ]
  },
  {
   "cell_type": "markdown",
   "metadata": {},
   "source": [
    "# Grabbing and Downloading a song from spotify"
   ]
  },
  {
   "cell_type": "code",
   "execution_count": 7,
   "metadata": {},
   "outputs": [
    {
     "name": "stdout",
     "output_type": "stream",
     "text": [
      "Found track: Adrenaline by chipbagov (id=0kLuOdcYcXQm83O9YPGlFs)\n",
      "Original tempo: 114.992 BPM\n"
     ]
    }
   ],
   "source": [
    "\n",
    "\n",
    "# Set up your Spotify API credentials\n",
    "\n",
    "client_credentials_manager = SpotifyClientCredentials(client_id=client_id, client_secret=client_secret)\n",
    "sp = spotipy.Spotify(client_credentials_manager=client_credentials_manager)\n",
    "\n",
    "# Set the search query (song title and/or artist name)\n",
    "query = 'Adrenaline by Chipbagov'\n",
    "\n",
    "# Search for the song and extract the track name, artist, and id\n",
    "results = sp.search(q=query, limit=1, type='track')\n",
    "if results['tracks']['items']:\n",
    "    track = results['tracks']['items'][0]\n",
    "    track_name = track['name']\n",
    "    artist_name = track['artists'][0]['name']\n",
    "    track_id = track['id']\n",
    "    print(f'Found track: {track_name} by {artist_name} (id={track_id})')\n",
    "else:\n",
    "    print(f'Could not find track matching query \"{query}\"')\n",
    "    exit()\n",
    "\n",
    "# Get the tempo of the original song\n",
    "audio_features = sp.audio_features(track_id)[0]\n",
    "tempo = audio_features['tempo']\n",
    "print(f'Original tempo: {tempo} BPM')\n",
    "\n",
    "# Download the original song as a WAV file\n",
    "url = track['preview_url']\n",
    "response = requests.get(url)\n",
    "audio_data = response.content\n",
    "with open('original_song.wav', 'wb') as f:\n",
    "    f.write(audio_data)\n",
    "\n"
   ]
  },
  {
   "cell_type": "markdown",
   "metadata": {},
   "source": [
    "# Modulating the tempo"
   ]
  },
  {
   "cell_type": "code",
   "execution_count": 10,
   "metadata": {},
   "outputs": [],
   "source": [
    "\n",
    "# Set the tempo scaling factor (1.0 = no change, 2.0 = double speed, 0.5 = half speed)\n",
    "tempo_factor = 1.2\n",
    "\n",
    "# Load the audio file\n",
    "audio, sr = sf.read('original_song.wav')\n",
    "\n",
    "# Stretch the audio file to the desired tempo\n",
    "stretched_audio = pyrubberband.time_stretch(audio, sr, tempo_factor)\n",
    "\n",
    "# Save the modified audio file\n",
    "sf.write('modified_song2.wav', stretched_audio, sr)\n"
   ]
  },
  {
   "cell_type": "markdown",
   "metadata": {},
   "source": [
    "# Playing the song"
   ]
  },
  {
   "cell_type": "code",
   "execution_count": 11,
   "metadata": {},
   "outputs": [
    {
     "name": "stderr",
     "output_type": "stream",
     "text": [
      "Input #0, wav, from '/var/folders/pj/c3bwxcz17fx4v5_bp1h430h00000gn/T/tmpaur6p5pp.wav':\n",
      "  Duration: 00:00:24.76, bitrate: 1411 kb/s\n",
      "  Stream #0:0: Audio: pcm_s16le ([1][0][0][0] / 0x0001), 44100 Hz, 2 channels, s16, 1411 kb/s\n",
      "  15.10 M-A:  0.000 fd=   0 aq=  168KB vq=    0KB sq=    0B f=0/0   \r"
     ]
    },
    {
     "ename": "KeyboardInterrupt",
     "evalue": "",
     "output_type": "error",
     "traceback": [
      "\u001b[0;31m---------------------------------------------------------------------------\u001b[0m",
      "\u001b[0;31mKeyboardInterrupt\u001b[0m                         Traceback (most recent call last)",
      "\u001b[1;32m/Users/daniilabbruzzese/Documents/Professional/Python Projects/spotify_api.ipynb Cell 12\u001b[0m in \u001b[0;36m<cell line: 10>\u001b[0;34m()\u001b[0m\n\u001b[1;32m      <a href='vscode-notebook-cell:/Users/daniilabbruzzese/Documents/Professional/Python%20Projects/spotify_api.ipynb#X14sZmlsZQ%3D%3D?line=6'>7</a>\u001b[0m song \u001b[39m=\u001b[39m AudioSegment\u001b[39m.\u001b[39mfrom_wav(\u001b[39m'\u001b[39m\u001b[39mmodified_song2.wav\u001b[39m\u001b[39m'\u001b[39m)\n\u001b[1;32m      <a href='vscode-notebook-cell:/Users/daniilabbruzzese/Documents/Professional/Python%20Projects/spotify_api.ipynb#X14sZmlsZQ%3D%3D?line=8'>9</a>\u001b[0m \u001b[39m# Play the song\u001b[39;00m\n\u001b[0;32m---> <a href='vscode-notebook-cell:/Users/daniilabbruzzese/Documents/Professional/Python%20Projects/spotify_api.ipynb#X14sZmlsZQ%3D%3D?line=9'>10</a>\u001b[0m play(song)\n",
      "File \u001b[0;32m/Library/Frameworks/Python.framework/Versions/3.9/lib/python3.9/site-packages/pydub/playback.py:71\u001b[0m, in \u001b[0;36mplay\u001b[0;34m(audio_segment)\u001b[0m\n\u001b[1;32m     68\u001b[0m \u001b[39melse\u001b[39;00m:\n\u001b[1;32m     69\u001b[0m     \u001b[39mreturn\u001b[39;00m\n\u001b[0;32m---> 71\u001b[0m _play_with_ffplay(audio_segment)\n",
      "File \u001b[0;32m/Library/Frameworks/Python.framework/Versions/3.9/lib/python3.9/site-packages/pydub/playback.py:16\u001b[0m, in \u001b[0;36m_play_with_ffplay\u001b[0;34m(seg)\u001b[0m\n\u001b[1;32m     14\u001b[0m \u001b[39mwith\u001b[39;00m NamedTemporaryFile(\u001b[39m\"\u001b[39m\u001b[39mw+b\u001b[39m\u001b[39m\"\u001b[39m, suffix\u001b[39m=\u001b[39m\u001b[39m\"\u001b[39m\u001b[39m.wav\u001b[39m\u001b[39m\"\u001b[39m) \u001b[39mas\u001b[39;00m f:\n\u001b[1;32m     15\u001b[0m     seg\u001b[39m.\u001b[39mexport(f\u001b[39m.\u001b[39mname, \u001b[39m\"\u001b[39m\u001b[39mwav\u001b[39m\u001b[39m\"\u001b[39m)\n\u001b[0;32m---> 16\u001b[0m     subprocess\u001b[39m.\u001b[39;49mcall([PLAYER, \u001b[39m\"\u001b[39;49m\u001b[39m-nodisp\u001b[39;49m\u001b[39m\"\u001b[39;49m, \u001b[39m\"\u001b[39;49m\u001b[39m-autoexit\u001b[39;49m\u001b[39m\"\u001b[39;49m, \u001b[39m\"\u001b[39;49m\u001b[39m-hide_banner\u001b[39;49m\u001b[39m\"\u001b[39;49m, f\u001b[39m.\u001b[39;49mname])\n",
      "File \u001b[0;32m/Library/Frameworks/Python.framework/Versions/3.9/lib/python3.9/subprocess.py:351\u001b[0m, in \u001b[0;36mcall\u001b[0;34m(timeout, *popenargs, **kwargs)\u001b[0m\n\u001b[1;32m    349\u001b[0m \u001b[39mwith\u001b[39;00m Popen(\u001b[39m*\u001b[39mpopenargs, \u001b[39m*\u001b[39m\u001b[39m*\u001b[39mkwargs) \u001b[39mas\u001b[39;00m p:\n\u001b[1;32m    350\u001b[0m     \u001b[39mtry\u001b[39;00m:\n\u001b[0;32m--> 351\u001b[0m         \u001b[39mreturn\u001b[39;00m p\u001b[39m.\u001b[39;49mwait(timeout\u001b[39m=\u001b[39;49mtimeout)\n\u001b[1;32m    352\u001b[0m     \u001b[39mexcept\u001b[39;00m:  \u001b[39m# Including KeyboardInterrupt, wait handled that.\u001b[39;00m\n\u001b[1;32m    353\u001b[0m         p\u001b[39m.\u001b[39mkill()\n",
      "File \u001b[0;32m/Library/Frameworks/Python.framework/Versions/3.9/lib/python3.9/subprocess.py:1189\u001b[0m, in \u001b[0;36mPopen.wait\u001b[0;34m(self, timeout)\u001b[0m\n\u001b[1;32m   1187\u001b[0m     endtime \u001b[39m=\u001b[39m _time() \u001b[39m+\u001b[39m timeout\n\u001b[1;32m   1188\u001b[0m \u001b[39mtry\u001b[39;00m:\n\u001b[0;32m-> 1189\u001b[0m     \u001b[39mreturn\u001b[39;00m \u001b[39mself\u001b[39;49m\u001b[39m.\u001b[39;49m_wait(timeout\u001b[39m=\u001b[39;49mtimeout)\n\u001b[1;32m   1190\u001b[0m \u001b[39mexcept\u001b[39;00m \u001b[39mKeyboardInterrupt\u001b[39;00m:\n\u001b[1;32m   1191\u001b[0m     \u001b[39m# https://bugs.python.org/issue25942\u001b[39;00m\n\u001b[1;32m   1192\u001b[0m     \u001b[39m# The first keyboard interrupt waits briefly for the child to\u001b[39;00m\n\u001b[1;32m   1193\u001b[0m     \u001b[39m# exit under the common assumption that it also received the ^C\u001b[39;00m\n\u001b[1;32m   1194\u001b[0m     \u001b[39m# generated SIGINT and will exit rapidly.\u001b[39;00m\n\u001b[1;32m   1195\u001b[0m     \u001b[39mif\u001b[39;00m timeout \u001b[39mis\u001b[39;00m \u001b[39mnot\u001b[39;00m \u001b[39mNone\u001b[39;00m:\n",
      "File \u001b[0;32m/Library/Frameworks/Python.framework/Versions/3.9/lib/python3.9/subprocess.py:1917\u001b[0m, in \u001b[0;36mPopen._wait\u001b[0;34m(self, timeout)\u001b[0m\n\u001b[1;32m   1915\u001b[0m \u001b[39mif\u001b[39;00m \u001b[39mself\u001b[39m\u001b[39m.\u001b[39mreturncode \u001b[39mis\u001b[39;00m \u001b[39mnot\u001b[39;00m \u001b[39mNone\u001b[39;00m:\n\u001b[1;32m   1916\u001b[0m     \u001b[39mbreak\u001b[39;00m  \u001b[39m# Another thread waited.\u001b[39;00m\n\u001b[0;32m-> 1917\u001b[0m (pid, sts) \u001b[39m=\u001b[39m \u001b[39mself\u001b[39;49m\u001b[39m.\u001b[39;49m_try_wait(\u001b[39m0\u001b[39;49m)\n\u001b[1;32m   1918\u001b[0m \u001b[39m# Check the pid and loop as waitpid has been known to\u001b[39;00m\n\u001b[1;32m   1919\u001b[0m \u001b[39m# return 0 even without WNOHANG in odd situations.\u001b[39;00m\n\u001b[1;32m   1920\u001b[0m \u001b[39m# http://bugs.python.org/issue14396.\u001b[39;00m\n\u001b[1;32m   1921\u001b[0m \u001b[39mif\u001b[39;00m pid \u001b[39m==\u001b[39m \u001b[39mself\u001b[39m\u001b[39m.\u001b[39mpid:\n",
      "File \u001b[0;32m/Library/Frameworks/Python.framework/Versions/3.9/lib/python3.9/subprocess.py:1875\u001b[0m, in \u001b[0;36mPopen._try_wait\u001b[0;34m(self, wait_flags)\u001b[0m\n\u001b[1;32m   1873\u001b[0m \u001b[39m\"\"\"All callers to this function MUST hold self._waitpid_lock.\"\"\"\u001b[39;00m\n\u001b[1;32m   1874\u001b[0m \u001b[39mtry\u001b[39;00m:\n\u001b[0;32m-> 1875\u001b[0m     (pid, sts) \u001b[39m=\u001b[39m os\u001b[39m.\u001b[39;49mwaitpid(\u001b[39mself\u001b[39;49m\u001b[39m.\u001b[39;49mpid, wait_flags)\n\u001b[1;32m   1876\u001b[0m \u001b[39mexcept\u001b[39;00m \u001b[39mChildProcessError\u001b[39;00m:\n\u001b[1;32m   1877\u001b[0m     \u001b[39m# This happens if SIGCLD is set to be ignored or waiting\u001b[39;00m\n\u001b[1;32m   1878\u001b[0m     \u001b[39m# for child processes has otherwise been disabled for our\u001b[39;00m\n\u001b[1;32m   1879\u001b[0m     \u001b[39m# process.  This child is dead, we can't get the status.\u001b[39;00m\n\u001b[1;32m   1880\u001b[0m     pid \u001b[39m=\u001b[39m \u001b[39mself\u001b[39m\u001b[39m.\u001b[39mpid\n",
      "\u001b[0;31mKeyboardInterrupt\u001b[0m: "
     ]
    }
   ],
   "source": [
    "#playing the song\n",
    "\n",
    "from pydub import AudioSegment\n",
    "from pydub.playback import play\n",
    "\n",
    "# Load the modified song into pydub\n",
    "song = AudioSegment.from_wav('modified_song2.wav')\n",
    "\n",
    "# Play the song\n",
    "play(song)"
   ]
  },
  {
   "cell_type": "code",
   "execution_count": null,
   "metadata": {},
   "outputs": [],
   "source": [
    "#tempo (in BPM) = (running pace (in steps per minute) * 2) / 3\n"
   ]
  }
 ],
 "metadata": {
  "kernelspec": {
   "display_name": "Python 3.9.13 64-bit",
   "language": "python",
   "name": "python3"
  },
  "language_info": {
   "codemirror_mode": {
    "name": "ipython",
    "version": 3
   },
   "file_extension": ".py",
   "mimetype": "text/x-python",
   "name": "python",
   "nbconvert_exporter": "python",
   "pygments_lexer": "ipython3",
   "version": "3.9.13"
  },
  "orig_nbformat": 4,
  "vscode": {
   "interpreter": {
    "hash": "aee8b7b246df8f9039afb4144a1f6fd8d2ca17a180786b69acc140d282b71a49"
   }
  }
 },
 "nbformat": 4,
 "nbformat_minor": 2
}
